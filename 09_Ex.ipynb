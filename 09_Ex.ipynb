{
 "cells": [
  {
   "cell_type": "markdown",
   "metadata": {},
   "source": [
    "# Ejercicio9"
   ]
  },
  {
   "cell_type": "markdown",
   "metadata": {},
   "source": [
    "- crear una clase que se llame time esta clase necesita tres atributos oras, minutos y segundos, tiene un metodo que se llame | totalsecons,el metodo regresa el numero tal de se gundos que ay en las horas y minutos y segundos dados unsando el __str__ para el formato de las horas minutos y segundos\n"
   ]
  },
  {
   "cell_type": "code",
   "execution_count": 8,
   "metadata": {},
   "outputs": [],
   "source": [
    "class Time:\n",
    "    def __init__(self,Horas, Minutos, Segundos):\n",
    "        self.Horas = Horas\n",
    "        self.Minutos = Minutos\n",
    "        self.Segundos = Segundos\n",
    "\n",
    "    def Total_secons(self):\n",
    "        return self.Horas * 3600 + self.Minutos * 60 + self.Segundos\n",
    "\n",
    "    def __str__(self):\n",
    "        return f\"{self.Horas:02}:{self.Minutos:02}:{self.Segundos:02}\""
   ]
  },
  {
   "cell_type": "code",
   "execution_count": 23,
   "metadata": {},
   "outputs": [
    {
     "name": "stdout",
     "output_type": "stream",
     "text": [
      "Total de segundos: 5403\n",
      "Tiempo: 01:30:03\n"
     ]
    }
   ],
   "source": [
    "time_instance = Time(1, 30, 3)\n",
    "total = time_instance.total_seconds()\n",
    "print(f\"Total de segundos: {total}\")\n",
    "print(f\"Tiempo: {time_instance}\")"
   ]
  }
 ],
 "metadata": {
  "kernelspec": {
   "display_name": "Python 3",
   "language": "python",
   "name": "python3"
  },
  "language_info": {
   "codemirror_mode": {
    "name": "ipython",
    "version": 3
   },
   "file_extension": ".py",
   "mimetype": "text/x-python",
   "name": "python",
   "nbconvert_exporter": "python",
   "pygments_lexer": "ipython3",
   "version": "3.11.4"
  }
 },
 "nbformat": 4,
 "nbformat_minor": 2
}
