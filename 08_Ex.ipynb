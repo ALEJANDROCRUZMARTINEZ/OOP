{
 "cells": [
  {
   "cell_type": "markdown",
   "metadata": {},
   "source": [
    "# Ejercicio8"
   ]
  },
  {
   "cell_type": "code",
   "execution_count": 21,
   "metadata": {},
   "outputs": [],
   "source": [
    "import math\n",
    "\n",
    "class Point2D:\n",
    "    def __init__(self, x, y):\n",
    "        self.x = x\n",
    "        self.y = y\n",
    "\n",
    "    def calculate_distance(self, other):\n",
    "        distance = math.sqrt((other.x - self.x)**2 + (other.y - self.y)**2)\n",
    "        return print(f\"La distancia entre el punto 1 y 2 es: {distance:.5f}\")"
   ]
  },
  {
   "cell_type": "code",
   "execution_count": 22,
   "metadata": {},
   "outputs": [
    {
     "name": "stdout",
     "output_type": "stream",
     "text": [
      "La distancia entre el punto 1 y 2 es: 6.08276\n"
     ]
    }
   ],
   "source": [
    "\n",
    "point1 = Point2D(3, 4)\n",
    "point2 = Point2D(9, 5)\n",
    "distance = point1.calculate_distance(point2)\n"
   ]
  },
  {
   "cell_type": "code",
   "execution_count": 24,
   "metadata": {},
   "outputs": [
    {
     "name": "stdout",
     "output_type": "stream",
     "text": [
      "La distancia entre el punto 1 y 2 es: 15.00000\n"
     ]
    }
   ],
   "source": [
    "point1 = Point2D(-3, 4)\n",
    "point2 = Point2D(9, -5)\n",
    "distance = point1.calculate_distance(point2)\n"
   ]
  }
 ],
 "metadata": {
  "kernelspec": {
   "display_name": "Python 3",
   "language": "python",
   "name": "python3"
  },
  "language_info": {
   "codemirror_mode": {
    "name": "ipython",
    "version": 3
   },
   "file_extension": ".py",
   "mimetype": "text/x-python",
   "name": "python",
   "nbconvert_exporter": "python",
   "pygments_lexer": "ipython3",
   "version": "3.11.4"
  }
 },
 "nbformat": 4,
 "nbformat_minor": 2
}
