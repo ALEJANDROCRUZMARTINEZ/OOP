{
 "cells": [
  {
   "cell_type": "markdown",
   "metadata": {},
   "source": [
    "# Ejercicio 4 de OOP"
   ]
  },
  {
   "cell_type": "markdown",
   "metadata": {},
   "source": [
    "<img src=\"./Diagramas_clases/04_overrinding.png\" alt=\"Ex1\" width=\"300\">"
   ]
  },
  {
   "cell_type": "markdown",
   "metadata": {},
   "source": [
    "# Clase Animal\n",
    "- **str name**: Atributo de instancia. Nombre del animkal\n",
    "- **void eat()**: Imprime 'yummy yummy! estoy comiendo'.\n",
    "- **void make_noise**: Imprime'{self.name} hace Grrr'"
   ]
  },
  {
   "cell_type": "code",
   "execution_count": 3,
   "metadata": {},
   "outputs": [],
   "source": [
    "class Animal:\n",
    "    def __init__(self,name):\n",
    "        self.name = name\n",
    "    def eat(self):\n",
    "        print('yummy yummy! estoy comiendo')\n",
    "    def make_noise(self):\n",
    "        print(f'{self.name} hace Grrr')    \n"
   ]
  },
  {
   "cell_type": "code",
   "execution_count": 4,
   "metadata": {},
   "outputs": [
    {
     "name": "stdout",
     "output_type": "stream",
     "text": [
      "yummy yummy! estoy comiendo\n",
      "Negro hace Grrr\n"
     ]
    }
   ],
   "source": [
    "Negro = Animal('Negro')\n",
    "Negro.eat()\n",
    "Negro.make_noise()"
   ]
  },
  {
   "cell_type": "markdown",
   "metadata": {},
   "source": [
    "# Clase Cat\n",
    "- **void make_noise**: Imprime'{self.name} hace Grrr'\n",
    "- **void meow()**:Imprime 'Soy un gato y hago meow'"
   ]
  },
  {
   "cell_type": "code",
   "execution_count": 13,
   "metadata": {},
   "outputs": [],
   "source": [
    "class Cat(Animal):\n",
    "    def make_noise(self):\n",
    "        print(f'{self.name} hace Grrr')  \n",
    "\n",
    "    def meow(self):\n",
    "        print(f'soy gato y hago meow!')"
   ]
  },
  {
   "cell_type": "code",
   "execution_count": 14,
   "metadata": {},
   "outputs": [
    {
     "name": "stdout",
     "output_type": "stream",
     "text": [
      "Michu hace Grrr\n",
      "soy gato y hago meow!\n",
      "yummy yummy! estoy comiendo\n"
     ]
    }
   ],
   "source": [
    "Michu = Cat('Michu')\n",
    "Michu.make_noise()\n",
    "Michu.meow()\n",
    "Michu.eat()"
   ]
  },
  {
   "cell_type": "markdown",
   "metadata": {},
   "source": [
    "# Clase Dog\n",
    "- **void bark()**:Imprime 'Soy un perro y hago woof'\n"
   ]
  },
  {
   "cell_type": "code",
   "execution_count": 17,
   "metadata": {},
   "outputs": [],
   "source": [
    "class Dog(Animal):\n",
    "    def bark(self):\n",
    "        print(f'soy un perro y hago woof!')\n"
   ]
  },
  {
   "cell_type": "code",
   "execution_count": 19,
   "metadata": {},
   "outputs": [
    {
     "name": "stdout",
     "output_type": "stream",
     "text": [
      "soy un perro y hago woof!\n",
      "yummy yummy! estoy comiendo\n",
      "firulais hace Grrr\n"
     ]
    }
   ],
   "source": [
    "firulais = Dog('firulais')\n",
    "firulais.bark()\n",
    "firulais.eat()\n",
    "firulais.make_noise()"
   ]
  },
  {
   "cell_type": "markdown",
   "metadata": {},
   "source": []
  }
 ],
 "metadata": {
  "kernelspec": {
   "display_name": "Python 3",
   "language": "python",
   "name": "python3"
  },
  "language_info": {
   "codemirror_mode": {
    "name": "ipython",
    "version": 3
   },
   "file_extension": ".py",
   "mimetype": "text/x-python",
   "name": "python",
   "nbconvert_exporter": "python",
   "pygments_lexer": "ipython3",
   "version": "3.11.4"
  }
 },
 "nbformat": 4,
 "nbformat_minor": 2
}
