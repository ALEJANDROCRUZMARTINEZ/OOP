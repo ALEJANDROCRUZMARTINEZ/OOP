{
 "cells": [
  {
   "cell_type": "markdown",
   "metadata": {},
   "source": [
    "# Ejercicio7 de OOP"
   ]
  },
  {
   "cell_type": "code",
   "execution_count": 18,
   "metadata": {},
   "outputs": [],
   "source": [
    "class Persona:\n",
    "    def __init__(self, username, apellido1, apellido2):\n",
    "        self.username = username.capitalize()\n",
    "        self.apellido1 = apellido1.capitalize()\n",
    "        self.apellido2 = apellido2.capitalize()\n",
    "\n",
    "    def say_nombre(self):\n",
    "        return f\"Mi nombre es {self.username} {self.apellido1} {self.apellido2}\""
   ]
  },
  {
   "cell_type": "code",
   "execution_count": 19,
   "metadata": {},
   "outputs": [
    {
     "data": {
      "text/plain": [
       "'Mi nombre es Alejandro Cruz Martínez'"
      ]
     },
     "execution_count": 19,
     "metadata": {},
     "output_type": "execute_result"
    }
   ],
   "source": [
    "Alejandro = Persona(\"alejandro\", \"cruz\", \"martínez\")\n",
    "Alejandro.say_nombre()"
   ]
  },
  {
   "cell_type": "code",
   "execution_count": 20,
   "metadata": {},
   "outputs": [
    {
     "data": {
      "text/plain": [
       "'Mi nombre es Juan Zalazar Perez'"
      ]
     },
     "execution_count": 20,
     "metadata": {},
     "output_type": "execute_result"
    }
   ],
   "source": [
    "Juan = Persona(\"JUaN\", \"ZaLaZar\", \"PeReZ\")\n",
    "Juan.say_nombre()"
   ]
  },
  {
   "cell_type": "code",
   "execution_count": 24,
   "metadata": {},
   "outputs": [
    {
     "data": {
      "text/plain": [
       "'Mi nombre es Jose  Maqueda Hernandez'"
      ]
     },
     "execution_count": 24,
     "metadata": {},
     "output_type": "execute_result"
    }
   ],
   "source": [
    "Sebas= Persona(\"Jose \", \"maQueda\", \"HeRnaNdEz\")\n",
    "Sebas.say_nombre()"
   ]
  }
 ],
 "metadata": {
  "kernelspec": {
   "display_name": "Python 3",
   "language": "python",
   "name": "python3"
  },
  "language_info": {
   "codemirror_mode": {
    "name": "ipython",
    "version": 3
   },
   "file_extension": ".py",
   "mimetype": "text/x-python",
   "name": "python",
   "nbconvert_exporter": "python",
   "pygments_lexer": "ipython3",
   "version": "3.11.4"
  }
 },
 "nbformat": 4,
 "nbformat_minor": 2
}
